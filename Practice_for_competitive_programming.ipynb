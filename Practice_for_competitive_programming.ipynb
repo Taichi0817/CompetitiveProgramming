{
 "cells": [
  {
   "cell_type": "markdown",
   "id": "facc75af",
   "metadata": {},
   "source": [
    "## 3.1　ワード\n",
    "コンピュータで扱われるデータの最小単位をビット(bit)とよび、複数のビットをまとめてあらわした情報量をワード(word)と呼ぶ。現在、多くのコンピュータでは1ワードを32ビットとして処理している。\n",
    "\n",
    "1ワードを32ビットで表すコンピュータについて、ワード単位で与えられたデータ量 **w** をビット単位で出力するプログラムを作成せよ。\n",
    "\n",
    "**入力**\n",
    "入力は1行からなり、データ量**W**(0<=**W**<==100)が与えられる。\n",
    "\n",
    "**出力**\n",
    "ビット単位の値を1行に出力する。\n",
    "\n",
    "**入力例1**\n",
    "4\n",
    "**出力例1**\n",
    "128\n",
    "**入力例2**\n",
    "3\n",
    "**出力例2**\n",
    "96"
   ]
  },
  {
   "cell_type": "code",
   "execution_count": 8,
   "id": "d1c326e9",
   "metadata": {},
   "outputs": [
    {
     "name": "stdout",
     "output_type": "stream",
     "text": [
      "\n"
     ]
    },
    {
     "ename": "ValueError",
     "evalue": "invalid literal for int() with base 10: ''",
     "output_type": "error",
     "traceback": [
      "\u001b[1;31m---------------------------------------------------------------------------\u001b[0m",
      "\u001b[1;31mValueError\u001b[0m                                Traceback (most recent call last)",
      "\u001b[1;32m<ipython-input-8-f1c387cc63f5>\u001b[0m in \u001b[0;36m<module>\u001b[1;34m\u001b[0m\n\u001b[1;32m----> 1\u001b[1;33m \u001b[0mW\u001b[0m \u001b[1;33m=\u001b[0m \u001b[0mint\u001b[0m\u001b[1;33m(\u001b[0m\u001b[0minput\u001b[0m\u001b[1;33m(\u001b[0m\u001b[1;33m)\u001b[0m\u001b[1;33m)\u001b[0m\u001b[1;33m\u001b[0m\u001b[1;33m\u001b[0m\u001b[0m\n\u001b[0m\u001b[0;32m      2\u001b[0m \u001b[0mB\u001b[0m \u001b[1;33m=\u001b[0m  \u001b[0mW\u001b[0m \u001b[1;33m*\u001b[0m \u001b[1;36m32\u001b[0m\u001b[1;33m\u001b[0m\u001b[1;33m\u001b[0m\u001b[0m\n\u001b[0;32m      3\u001b[0m \u001b[0mprint\u001b[0m\u001b[1;33m(\u001b[0m\u001b[0mB\u001b[0m\u001b[1;33m)\u001b[0m\u001b[1;33m\u001b[0m\u001b[1;33m\u001b[0m\u001b[0m\n",
      "\u001b[1;31mValueError\u001b[0m: invalid literal for int() with base 10: ''"
     ]
    }
   ],
   "source": [
    "W = int(input())\n",
    "B =  W * 32\n",
    "print(B)"
   ]
  },
  {
   "cell_type": "markdown",
   "id": "c4f5eabe",
   "metadata": {},
   "source": [
    "## 3.2 カエルはまっすぐ帰る\n",
    "一匹のカエルが巣穴に帰ろうとしている。巣穴はカエルの**D**センチメートル前方にあって、カエルは巣穴に向かって真っすぐ進む。カエルができる行動は、以下の二つだけである。\n",
    "- 大ジャンプ（Lセンチメートル前方に進む）\n",
    "- 小ジャンプ（1センチメートル前方に進む）\n",
    "カエルは巣穴を跳び越すことなく、ちょうど巣穴に着地することを狙っている。\n",
    "カエルが巣穴に帰るためには、最低何回飛ぶ可能性があるかを求めるプログラムを作成せよ。\n",
    "\n",
    "**入力**\n",
    "入力は1行であり、巣穴までの距離**D**(1 <=**D**<=10000)と大ジャンプでカエルが進む距離**L**(2 <= **L**<= 10000)が与えられる\n",
    "\n",
    "**出力**\n",
    "カエルが最低何回飛ぶ必要があるかを、1行に入力する。\n",
    "\n",
    "**入力例1**\n",
    "10 5\n",
    "**出力例1**\n",
    "2\n",
    "**入力例2**\n",
    "7 4\n",
    "**出力例2**\n",
    "4"
   ]
  },
  {
   "cell_type": "code",
   "execution_count": 9,
   "id": "2b302e8e",
   "metadata": {},
   "outputs": [
    {
     "name": "stdout",
     "output_type": "stream",
     "text": [
      "\n"
     ]
    },
    {
     "ename": "ValueError",
     "evalue": "not enough values to unpack (expected 2, got 0)",
     "output_type": "error",
     "traceback": [
      "\u001b[1;31m---------------------------------------------------------------------------\u001b[0m",
      "\u001b[1;31mValueError\u001b[0m                                Traceback (most recent call last)",
      "\u001b[1;32m<ipython-input-9-93ba5ebcb14c>\u001b[0m in \u001b[0;36m<module>\u001b[1;34m\u001b[0m\n\u001b[1;32m----> 1\u001b[1;33m \u001b[0mD\u001b[0m\u001b[1;33m,\u001b[0m \u001b[0mL\u001b[0m \u001b[1;33m=\u001b[0m \u001b[0mmap\u001b[0m\u001b[1;33m(\u001b[0m\u001b[0mint\u001b[0m\u001b[1;33m,\u001b[0m \u001b[0minput\u001b[0m\u001b[1;33m(\u001b[0m\u001b[1;33m)\u001b[0m\u001b[1;33m.\u001b[0m\u001b[0msplit\u001b[0m\u001b[1;33m(\u001b[0m\u001b[1;33m)\u001b[0m\u001b[1;33m)\u001b[0m\u001b[1;33m\u001b[0m\u001b[1;33m\u001b[0m\u001b[0m\n\u001b[0m\u001b[0;32m      2\u001b[0m \u001b[0mprint\u001b[0m\u001b[1;33m(\u001b[0m\u001b[0mD\u001b[0m \u001b[1;33m//\u001b[0m \u001b[0mL\u001b[0m \u001b[1;33m+\u001b[0m \u001b[0mD\u001b[0m \u001b[1;33m%\u001b[0m \u001b[0mL\u001b[0m\u001b[1;33m)\u001b[0m\u001b[1;33m\u001b[0m\u001b[1;33m\u001b[0m\u001b[0m\n",
      "\u001b[1;31mValueError\u001b[0m: not enough values to unpack (expected 2, got 0)"
     ]
    }
   ],
   "source": [
    "D, L = map(int, input().split())\n",
    "print(D // L + D % L)"
   ]
  },
  {
   "cell_type": "markdown",
   "id": "4aebe562",
   "metadata": {},
   "source": [
    "## 3.3 メモリのないストップウォッチ\n",
    "図のようなストップウォッチがある。このストップウォッチには０を示す目印が一つあるだけで、目盛りがない。起動した瞬間、針は目印を指し、そこから針は軸を中心に一定の割合で時計回りに回転する。目盛りがないので、起動からの経過時間を直接読み取ることはできない。その代わり、針が目印から時計回りに**A**度回ったときの経過時間が**T**秒であることがわかっている。ただし、**A**は360度未満とする。\n",
    "<img src=\"https://judgeapi.u-aizu.ac.jp/resources/images/PCK2019_stop_watch\" alt=\"\" title=\"サンプル\">\n",
    "角度**A**と経過時間**T**が与えられたとき、ストップウォッチ起動後に読み取った針の角度**R**が表す経過時間を求めるプログラムを作成せよ。ただし、針が１周していないことはわかっているものとする。\n",
    "**入力**\n",
    "入力は以下の例で与えられる。<br>\n",
    "**A**, **T**, **R**\n",
    "<br>\n",
    "**入力例1**\n",
    "180 120 90\n",
    "**出力例1**\n",
    "60.0 \n",
    "**入力例2**\n",
    "90 100 120\n",
    "**出力例2**\n",
    "133.333333"
   ]
  },
  {
   "cell_type": "code",
   "execution_count": 10,
   "id": "62c9cb7b",
   "metadata": {},
   "outputs": [
    {
     "name": "stdout",
     "output_type": "stream",
     "text": [
      "\n"
     ]
    },
    {
     "ename": "ValueError",
     "evalue": "not enough values to unpack (expected 3, got 0)",
     "output_type": "error",
     "traceback": [
      "\u001b[1;31m---------------------------------------------------------------------------\u001b[0m",
      "\u001b[1;31mValueError\u001b[0m                                Traceback (most recent call last)",
      "\u001b[1;32m<ipython-input-10-1ecbcd1f2dde>\u001b[0m in \u001b[0;36m<module>\u001b[1;34m\u001b[0m\n\u001b[1;32m----> 1\u001b[1;33m \u001b[0mA\u001b[0m\u001b[1;33m,\u001b[0m \u001b[0mT\u001b[0m\u001b[1;33m,\u001b[0m \u001b[0mR\u001b[0m \u001b[1;33m=\u001b[0m \u001b[0mmap\u001b[0m\u001b[1;33m(\u001b[0m\u001b[0mint\u001b[0m\u001b[1;33m,\u001b[0m \u001b[0minput\u001b[0m\u001b[1;33m(\u001b[0m\u001b[1;33m)\u001b[0m\u001b[1;33m.\u001b[0m\u001b[0msplit\u001b[0m\u001b[1;33m(\u001b[0m\u001b[1;33m)\u001b[0m\u001b[1;33m)\u001b[0m\u001b[1;33m\u001b[0m\u001b[1;33m\u001b[0m\u001b[0m\n\u001b[0m\u001b[0;32m      2\u001b[0m \u001b[0mprint\u001b[0m\u001b[1;33m(\u001b[0m\u001b[0mT\u001b[0m \u001b[1;33m*\u001b[0m \u001b[0mR\u001b[0m \u001b[1;33m/\u001b[0m \u001b[0mA\u001b[0m\u001b[1;33m)\u001b[0m\u001b[1;33m\u001b[0m\u001b[1;33m\u001b[0m\u001b[0m\n",
      "\u001b[1;31mValueError\u001b[0m: not enough values to unpack (expected 3, got 0)"
     ]
    }
   ],
   "source": [
    "A, T, R = map(int, input().split())\n",
    "print(T * R / A)"
   ]
  },
  {
   "cell_type": "markdown",
   "id": "a818faa0",
   "metadata": {},
   "source": [
    "## 3.4 演習問題\n"
   ]
  },
  {
   "cell_type": "markdown",
   "id": "5b96065f",
   "metadata": {},
   "source": [
    "## 摂氏華氏\n",
    "温度を表すとき、日本では摂氏（℃）という単位を使いますが、アメリカでは華氏（℉ ）という単位を使います。例えば、摂氏での 20 度は華氏だとおよそ 68 度になるので、アメリカに行くと「今日は 68 度だ」などという会話が日常的にされます。\n",
    "\n",
    "華氏で表された温度から 32 を引いて 59 を掛けると、摂氏に直すことができます。しかし、これだと暗算しづらいので、簡易版として 30 を引いて 2 で割るという式が使われることがあります。これを使うと、華氏の 68 度は (68−30)2=19 度になります。\n",
    "\n",
    "華氏で表された温度Fを簡易版の変換式 C=(F−302)/2 で摂氏に直すプログラムを作成せよ。"
   ]
  },
  {
   "cell_type": "code",
   "execution_count": 11,
   "id": "e3ffec76",
   "metadata": {},
   "outputs": [
    {
     "name": "stdout",
     "output_type": "stream",
     "text": [
      "\n"
     ]
    },
    {
     "ename": "ValueError",
     "evalue": "invalid literal for int() with base 10: ''",
     "output_type": "error",
     "traceback": [
      "\u001b[1;31m---------------------------------------------------------------------------\u001b[0m",
      "\u001b[1;31mValueError\u001b[0m                                Traceback (most recent call last)",
      "\u001b[1;32m<ipython-input-11-a8bf0323eb7f>\u001b[0m in \u001b[0;36m<module>\u001b[1;34m\u001b[0m\n\u001b[1;32m----> 1\u001b[1;33m \u001b[0mF\u001b[0m \u001b[1;33m=\u001b[0m \u001b[0mint\u001b[0m\u001b[1;33m(\u001b[0m\u001b[0minput\u001b[0m\u001b[1;33m(\u001b[0m\u001b[1;33m)\u001b[0m\u001b[1;33m)\u001b[0m\u001b[1;33m\u001b[0m\u001b[1;33m\u001b[0m\u001b[0m\n\u001b[0m\u001b[0;32m      2\u001b[0m \u001b[0mprint\u001b[0m\u001b[1;33m(\u001b[0m\u001b[1;33m(\u001b[0m\u001b[0mF\u001b[0m\u001b[1;33m-\u001b[0m\u001b[1;36m30\u001b[0m\u001b[1;33m)\u001b[0m\u001b[1;33m//\u001b[0m\u001b[1;36m2\u001b[0m\u001b[1;33m)\u001b[0m\u001b[1;33m\u001b[0m\u001b[1;33m\u001b[0m\u001b[0m\n",
      "\u001b[1;31mValueError\u001b[0m: invalid literal for int() with base 10: ''"
     ]
    }
   ],
   "source": [
    "F = int(input())\n",
    "print((F-30)//2)"
   ]
  },
  {
   "cell_type": "markdown",
   "id": "13ca297d",
   "metadata": {},
   "source": [
    "## 角度の問題\n",
    "通常、角度は度という単位で表しますが、１度より小さい角度まで表したいときには、分や秒という単位を使います。1度を分で表すと60分、１分を秒で表すと60秒になります。たとえば、10.52度を秒で表すと37,872秒になり、度分秒で表すと10度31分12秒になります。\n",
    "\n",
    "角度が秒で与えられたとき、それらを度分秒に変換するプログラムを作成せよ。ただし、度は0以上の整数、分と秒は0から59までの整数とする。\n",
    "\n",
    "入力\n",
    "入力は以下の形式で与えられる。\n",
    "\n",
    "d\n",
    "１行に秒で表した角度d (0≤d≤648,000)が整数で与えられる。\n",
    "\n",
    "出力\n",
    "度分秒で表した角度の度、分、秒を、空白区切りで１行に出力する。\n",
    "\n",
    "入出力例\n",
    "入力例１\n",
    "37872\n",
    "出力例１\n",
    "10 31 12\n",
    "入力例２\n",
    "503784\n",
    "出力例２\n",
    "139 56 24\n",
    "入力例３\n",
    "0\n",
    "出力例３\n",
    "0 0 0"
   ]
  },
  {
   "cell_type": "code",
   "execution_count": 12,
   "id": "3ada5165",
   "metadata": {},
   "outputs": [
    {
     "data": {
      "text/plain": [
       "12"
      ]
     },
     "execution_count": 12,
     "metadata": {},
     "output_type": "execute_result"
    }
   ],
   "source": [
    "37872 % 60"
   ]
  },
  {
   "cell_type": "code",
   "execution_count": 13,
   "id": "93a6a81e",
   "metadata": {},
   "outputs": [
    {
     "data": {
      "text/plain": [
       "31"
      ]
     },
     "execution_count": 13,
     "metadata": {},
     "output_type": "execute_result"
    }
   ],
   "source": [
    "(37872 // 60) % 60 "
   ]
  },
  {
   "cell_type": "code",
   "execution_count": 14,
   "id": "adfe78d0",
   "metadata": {},
   "outputs": [
    {
     "data": {
      "text/plain": [
       "10"
      ]
     },
     "execution_count": 14,
     "metadata": {},
     "output_type": "execute_result"
    }
   ],
   "source": [
    "631 // 60"
   ]
  },
  {
   "cell_type": "code",
   "execution_count": 15,
   "id": "633f1389",
   "metadata": {},
   "outputs": [
    {
     "name": "stdout",
     "output_type": "stream",
     "text": [
      "\n"
     ]
    },
    {
     "ename": "ValueError",
     "evalue": "invalid literal for int() with base 10: ''",
     "output_type": "error",
     "traceback": [
      "\u001b[1;31m---------------------------------------------------------------------------\u001b[0m",
      "\u001b[1;31mValueError\u001b[0m                                Traceback (most recent call last)",
      "\u001b[1;32m<ipython-input-15-7cf00af18419>\u001b[0m in \u001b[0;36m<module>\u001b[1;34m\u001b[0m\n\u001b[1;32m----> 1\u001b[1;33m \u001b[0ms\u001b[0m \u001b[1;33m=\u001b[0m \u001b[0mint\u001b[0m\u001b[1;33m(\u001b[0m\u001b[0minput\u001b[0m\u001b[1;33m(\u001b[0m\u001b[1;33m)\u001b[0m\u001b[1;33m)\u001b[0m\u001b[1;33m\u001b[0m\u001b[1;33m\u001b[0m\u001b[0m\n\u001b[0m\u001b[0;32m      2\u001b[0m \u001b[0ma\u001b[0m \u001b[1;33m=\u001b[0m \u001b[0ms\u001b[0m\u001b[1;33m//\u001b[0m\u001b[1;36m60\u001b[0m\u001b[1;33m\u001b[0m\u001b[1;33m\u001b[0m\u001b[0m\n\u001b[0;32m      3\u001b[0m \u001b[0mb\u001b[0m \u001b[1;33m=\u001b[0m \u001b[0ma\u001b[0m \u001b[1;33m%\u001b[0m \u001b[1;36m60\u001b[0m\u001b[1;33m\u001b[0m\u001b[1;33m\u001b[0m\u001b[0m\n\u001b[0;32m      4\u001b[0m \u001b[0mc\u001b[0m \u001b[1;33m=\u001b[0m \u001b[0mb\u001b[0m \u001b[1;33m%\u001b[0m \u001b[1;36m60\u001b[0m\u001b[1;33m\u001b[0m\u001b[1;33m\u001b[0m\u001b[0m\n\u001b[0;32m      5\u001b[0m \u001b[0mprint\u001b[0m\u001b[1;33m(\u001b[0m\u001b[0ma\u001b[0m\u001b[1;33m//\u001b[0m\u001b[1;36m60\u001b[0m\u001b[1;33m,\u001b[0m \u001b[0mb\u001b[0m\u001b[1;33m,\u001b[0m \u001b[0ms\u001b[0m\u001b[1;33m%\u001b[0m\u001b[1;36m60\u001b[0m\u001b[1;33m)\u001b[0m\u001b[1;33m\u001b[0m\u001b[1;33m\u001b[0m\u001b[0m\n",
      "\u001b[1;31mValueError\u001b[0m: invalid literal for int() with base 10: ''"
     ]
    }
   ],
   "source": [
    "s = int(input())\n",
    "a = s//60\n",
    "b = a % 60\n",
    "c = b % 60\n",
    "print(a//60, b, s%60)"
   ]
  },
  {
   "cell_type": "markdown",
   "id": "5112e7c9",
   "metadata": {},
   "source": [
    "## 旅行先のパーティ\n",
    "八重さんは、旅行先で何度か行われるパーティに出席することになりました。パーティでは１回につき１着、ドレスを身に付ける必要があります。旅行には何着かドレスを持っていきますが、パーティの回数よりもドレスの枚数が少ない場合、すべてのパーティに出席するには、同じドレスを何回か身に付ける必要があります。\n",
    "\n",
    "おしゃれな八重さんは、同じドレスを何回も着たくありません。一番多く使うドレスを着る回数をなるべく少なくしたいと考えています。\n",
    "\n",
    "ドレスの枚数とパーティの回数が与えられる。一番多く使うドレスを着る回数をなるべく少なくしたときに、そのドレスを何回着なければならないかを計算するプログラムを作成せよ。\n",
    "\n",
    "### 入力\n",
    "### 入力は以下の形式で与えられる。\n",
    "### A B\n",
    "### １行にドレスの枚数A (1≤A≤105) とパーティの回数B (1≤B≤105)が与えられる。\n",
    "### 出力\n",
    "一番多く使うドレスを何回着なければならないかを、１行に出力する。\n",
    "### 入出力例\n",
    "#### 入力例１\n",
    "3 5\n",
    "#### 出力例１\n",
    "2\n",
    "### 入力例２\n",
    "25 10\n",
    "#### 出力例２\n",
    "1 "
   ]
  },
  {
   "cell_type": "code",
   "execution_count": 16,
   "id": "30276dd8",
   "metadata": {},
   "outputs": [
    {
     "name": "stdout",
     "output_type": "stream",
     "text": [
      "\n"
     ]
    },
    {
     "ename": "ValueError",
     "evalue": "not enough values to unpack (expected 2, got 0)",
     "output_type": "error",
     "traceback": [
      "\u001b[1;31m---------------------------------------------------------------------------\u001b[0m",
      "\u001b[1;31mValueError\u001b[0m                                Traceback (most recent call last)",
      "\u001b[1;32m<ipython-input-16-61b1ff2cada7>\u001b[0m in \u001b[0;36m<module>\u001b[1;34m\u001b[0m\n\u001b[1;32m----> 1\u001b[1;33m \u001b[0ma\u001b[0m\u001b[1;33m,\u001b[0m \u001b[0mb\u001b[0m \u001b[1;33m=\u001b[0m \u001b[0mmap\u001b[0m\u001b[1;33m(\u001b[0m\u001b[0mint\u001b[0m\u001b[1;33m,\u001b[0m \u001b[0minput\u001b[0m\u001b[1;33m(\u001b[0m\u001b[1;33m)\u001b[0m\u001b[1;33m.\u001b[0m\u001b[0msplit\u001b[0m\u001b[1;33m(\u001b[0m\u001b[1;33m)\u001b[0m\u001b[1;33m)\u001b[0m\u001b[1;33m\u001b[0m\u001b[1;33m\u001b[0m\u001b[0m\n\u001b[0m\u001b[0;32m      2\u001b[0m \u001b[0mprint\u001b[0m\u001b[1;33m(\u001b[0m\u001b[1;33m(\u001b[0m\u001b[0mb\u001b[0m \u001b[1;33m+\u001b[0m \u001b[0ma\u001b[0m \u001b[1;33m-\u001b[0m\u001b[1;36m1\u001b[0m\u001b[1;33m)\u001b[0m \u001b[1;33m//\u001b[0m\u001b[0ma\u001b[0m\u001b[1;33m)\u001b[0m\u001b[1;33m\u001b[0m\u001b[1;33m\u001b[0m\u001b[0m\n",
      "\u001b[1;31mValueError\u001b[0m: not enough values to unpack (expected 2, got 0)"
     ]
    }
   ],
   "source": [
    "a, b = map(int, input().split())\n",
    "print((b + a -1) //a)"
   ]
  },
  {
   "cell_type": "markdown",
   "id": "504178a6",
   "metadata": {},
   "source": [
    "## お財布メタボ診断\n",
    "４月に消費税が８％になってから、お財布が硬貨でパンパンになっていませんか。同じ金額を持ち歩くなら硬貨の枚数を少なくしたいですよね。硬貨の合計が１０００円以上なら、硬貨をお札に両替して、お財布のメタボ状態を解消できます。\n",
    "\n",
    "お財布の中の硬貨の枚数が種類ごとに与えられたとき、硬貨をお札に両替できるかどうかを判定するプログラムを作成してください。\n",
    "入力\n",
    "入力は以下の形式で与えられる。\n",
    "\n",
    "c1 c5 c10 c50 c100 c500\n",
    "入力は１行からなる。c1、c5、c10、c50、c100、c500 (0 ≤ c1,c5,c10,c50,c100,c500 ≤ 50) は、それぞれ、1円、5円、10円、50円、100円、500円硬貨の枚数を表す。\n",
    "\n",
    "### 出力\n",
    "#### 硬貨をお札に両替できるなら1 を、そうでなければ 0 を１行に出力する。\n",
    "\n",
    "### 入出力例\n",
    "\n",
    "#### 入力例１\n",
    "3 1 4 0 4 1 \n",
    "#### 出力例１\n",
    "0\n",
    "\n",
    "#### 入力例２\n",
    "2 1 4 3 2 3\n",
    "#### 出力例２\n",
    "1\n",
    "\n",
    "#### 入力例３\n",
    "21 5 9 3 1 1 \n",
    "#### 出力例３\n",
    "0\n",
    "\n",
    "#### 入力例４\n",
    "2 4 3 3 3 1 \n",
    "#### 出力例４\n",
    "1\n",
    "\n",
    "#### 入力例５\n",
    "50 50 50 4 0 0 \n",
    "#### 出力例５\n",
    "1\n"
   ]
  },
  {
   "cell_type": "code",
   "execution_count": 17,
   "id": "650a0d68",
   "metadata": {},
   "outputs": [
    {
     "name": "stdout",
     "output_type": "stream",
     "text": [
      "\n"
     ]
    },
    {
     "ename": "ValueError",
     "evalue": "not enough values to unpack (expected 6, got 0)",
     "output_type": "error",
     "traceback": [
      "\u001b[1;31m---------------------------------------------------------------------------\u001b[0m",
      "\u001b[1;31mValueError\u001b[0m                                Traceback (most recent call last)",
      "\u001b[1;32m<ipython-input-17-9e035313732e>\u001b[0m in \u001b[0;36m<module>\u001b[1;34m\u001b[0m\n\u001b[1;32m----> 1\u001b[1;33m \u001b[0mc1\u001b[0m\u001b[1;33m,\u001b[0m \u001b[0mc5\u001b[0m\u001b[1;33m,\u001b[0m \u001b[0mc10\u001b[0m\u001b[1;33m,\u001b[0m \u001b[0mc50\u001b[0m\u001b[1;33m,\u001b[0m \u001b[0mc100\u001b[0m\u001b[1;33m,\u001b[0m \u001b[0mc500\u001b[0m \u001b[1;33m=\u001b[0m \u001b[0mmap\u001b[0m\u001b[1;33m(\u001b[0m\u001b[0mint\u001b[0m\u001b[1;33m,\u001b[0m \u001b[0minput\u001b[0m\u001b[1;33m(\u001b[0m\u001b[1;33m)\u001b[0m\u001b[1;33m.\u001b[0m\u001b[0msplit\u001b[0m\u001b[1;33m(\u001b[0m\u001b[1;33m)\u001b[0m\u001b[1;33m)\u001b[0m\u001b[1;33m\u001b[0m\u001b[1;33m\u001b[0m\u001b[0m\n\u001b[0m\u001b[0;32m      2\u001b[0m \u001b[0mp\u001b[0m \u001b[1;33m=\u001b[0m \u001b[1;33m(\u001b[0m\u001b[0mc1\u001b[0m\u001b[1;33m+\u001b[0m \u001b[0mc5\u001b[0m\u001b[1;33m*\u001b[0m\u001b[1;36m5\u001b[0m \u001b[1;33m+\u001b[0m \u001b[0mc10\u001b[0m\u001b[1;33m*\u001b[0m\u001b[1;36m10\u001b[0m \u001b[1;33m+\u001b[0m \u001b[0mc50\u001b[0m\u001b[1;33m*\u001b[0m\u001b[1;36m50\u001b[0m \u001b[1;33m+\u001b[0m \u001b[0mc100\u001b[0m\u001b[1;33m*\u001b[0m\u001b[1;36m100\u001b[0m \u001b[1;33m+\u001b[0m \u001b[0mc500\u001b[0m\u001b[1;33m*\u001b[0m\u001b[1;36m500\u001b[0m \u001b[1;33m)\u001b[0m\u001b[1;33m//\u001b[0m \u001b[1;36m1000\u001b[0m\u001b[1;33m\u001b[0m\u001b[1;33m\u001b[0m\u001b[0m\n\u001b[0;32m      3\u001b[0m \u001b[0mprint\u001b[0m\u001b[1;33m(\u001b[0m\u001b[0mp\u001b[0m\u001b[1;33m)\u001b[0m\u001b[1;33m\u001b[0m\u001b[1;33m\u001b[0m\u001b[0m\n",
      "\u001b[1;31mValueError\u001b[0m: not enough values to unpack (expected 6, got 0)"
     ]
    }
   ],
   "source": [
    "c1, c5, c10, c50, c100, c500 = map(int, input().split())\n",
    "p = (c1+ c5*5 + c10*10 + c50*50 + c100*100 + c500*500 )// 1000\n",
    "print(p)"
   ]
  },
  {
   "cell_type": "markdown",
   "id": "b52b0eb9",
   "metadata": {},
   "source": [
    "## 買い物\n",
    "あなたは、今日発売された新刊「プログラミング甲子園必勝法」を買うために、友達のＡ君と本屋に来ています。あなたはどうしてもその本を買いたいので、手持ちの金額で足りないときは、Ａ君からお金を借りようと思っています。それでも足りなければ、今回はあきらめるしかありません。\n",
    "\n",
    "あなたの手持ちの金額、Ａ君の手持ちの金額、本の値段が与えられたとき、本を買うためにＡ君から借りなければならない最小の金額を出力するプログラムを作成せよ。\n",
    "\n",
    "### Input\n",
    "#### 入力は以下の形式で与えられる。\n",
    "\n",
    "m f b\n",
    "#### １行に、あなたの手持ちの金額 m (0 ≤ m ≤ 10000) とＡ君の手持ちの金額 f (0 ≤ f ≤ 10000) と本の値段 b (100 ≤ b ≤ 20000) が与えられる。\n",
    "\n",
    "### Output\n",
    "本を買うためにＡ君から借りなければならない最小の金額を１行に出力する。ただし、Ａ君の手持ちの 金額をすべて借りても本を買えないときは、\"NA\" と1 行に出力する。\n",
    "\n",
    "#### Sample Input 1\n",
    "1000 3000 3000\n",
    "#### Sample Output 1\n",
    "2000\n",
    "#### Sample Input 2\n",
    "5000 3000 4500\n",
    "#### Sample Output 2\n",
    "0\n",
    "#### Sample Input 3\n",
    "500 1000 2000\n",
    "#### Sample Output 3\n",
    "NA"
   ]
  },
  {
   "cell_type": "code",
   "execution_count": 18,
   "id": "07463084",
   "metadata": {},
   "outputs": [
    {
     "name": "stdout",
     "output_type": "stream",
     "text": [
      "\n"
     ]
    },
    {
     "ename": "ValueError",
     "evalue": "not enough values to unpack (expected 3, got 0)",
     "output_type": "error",
     "traceback": [
      "\u001b[1;31m---------------------------------------------------------------------------\u001b[0m",
      "\u001b[1;31mValueError\u001b[0m                                Traceback (most recent call last)",
      "\u001b[1;32m<ipython-input-18-c7af23af2a6f>\u001b[0m in \u001b[0;36m<module>\u001b[1;34m\u001b[0m\n\u001b[1;32m----> 1\u001b[1;33m \u001b[0mm\u001b[0m\u001b[1;33m,\u001b[0m \u001b[0mf\u001b[0m\u001b[1;33m,\u001b[0m \u001b[0mb\u001b[0m \u001b[1;33m=\u001b[0m \u001b[0mmap\u001b[0m\u001b[1;33m(\u001b[0m\u001b[0mint\u001b[0m\u001b[1;33m,\u001b[0m \u001b[0minput\u001b[0m\u001b[1;33m(\u001b[0m\u001b[1;33m)\u001b[0m\u001b[1;33m.\u001b[0m\u001b[0msplit\u001b[0m\u001b[1;33m(\u001b[0m\u001b[1;33m)\u001b[0m\u001b[1;33m)\u001b[0m\u001b[1;33m\u001b[0m\u001b[1;33m\u001b[0m\u001b[0m\n\u001b[0m\u001b[0;32m      2\u001b[0m \u001b[1;32mif\u001b[0m \u001b[0mm\u001b[0m \u001b[1;33m+\u001b[0m \u001b[0mf\u001b[0m \u001b[1;33m<\u001b[0m \u001b[0mb\u001b[0m\u001b[1;33m:\u001b[0m\u001b[1;33m\u001b[0m\u001b[1;33m\u001b[0m\u001b[0m\n\u001b[0;32m      3\u001b[0m     \u001b[0mresult\u001b[0m \u001b[1;33m=\u001b[0m \u001b[1;34m'NA'\u001b[0m\u001b[1;33m\u001b[0m\u001b[1;33m\u001b[0m\u001b[0m\n\u001b[0;32m      4\u001b[0m \u001b[1;32melif\u001b[0m \u001b[0mm\u001b[0m \u001b[1;33m<\u001b[0m \u001b[0mb\u001b[0m\u001b[1;33m:\u001b[0m\u001b[1;33m\u001b[0m\u001b[1;33m\u001b[0m\u001b[0m\n\u001b[0;32m      5\u001b[0m     \u001b[0mresult\u001b[0m \u001b[1;33m=\u001b[0m\u001b[0mb\u001b[0m \u001b[1;33m-\u001b[0m \u001b[0mm\u001b[0m\u001b[1;33m\u001b[0m\u001b[1;33m\u001b[0m\u001b[0m\n",
      "\u001b[1;31mValueError\u001b[0m: not enough values to unpack (expected 3, got 0)"
     ]
    }
   ],
   "source": [
    "m, f, b = map(int, input().split())\n",
    "if m + f < b:\n",
    "    result = 'NA'\n",
    "elif m < b:\n",
    "    result =b - m\n",
    "else:\n",
    "    result = 0\n",
    "print(result)"
   ]
  },
  {
   "cell_type": "markdown",
   "id": "8b5ed54e",
   "metadata": {},
   "source": [
    "## 長方形\n",
    "アイヅ放送協会の教育番組(ＡＨＫ教育)では、子ども向けの工作番組「あそんでつくろ」を放送しています。今日は棒で長方形を作る回ですが、用意した４本の棒を使って長方形ができるかを確かめたいと思います。ただし、棒は切ったり折ったりしてはいけません。\n",
    "\n",
    "\n",
    "４本の棒の長さが与えられるので、それらすべてを辺とする長方形が作れるかどうか判定するプログラムを作成せよ。\n",
    "\n",
    "### Input\n",
    "#### 入力は以下の形式で与えられる。\n",
    "\n",
    "e1 e2 e3 e4\n",
    "#### 入力は１行からなり、各棒の長さを表す整数 ei (1 ≤ ei ≤ 100) が与えられる。\n",
    "\n",
    "### Output\n",
    "長方形を作成できる場合には「yes」を、作成できない場合には「no」を出力する。ただし、正方形は長方形の一種なので、正方形の場合でも「yes」と出力する。\n",
    "\n",
    "#### Sample Input 1\n",
    "1 1 3 4\n",
    "#### Sample Output 1\n",
    "no\n",
    "\n",
    "#### Sample Input 2\n",
    "1 1 2 2\n",
    "#### Sample Output 2\n",
    "yes\n",
    "\n",
    "#### Sample Input 3\n",
    "2 1 1 2\n",
    "#### Sample Output 3\n",
    "yes\n",
    "\n",
    "#### Sample Input 4\n",
    "4 4 4 10\n",
    "#### Sample Output 4\n",
    "no\n"
   ]
  },
  {
   "cell_type": "code",
   "execution_count": 19,
   "id": "e6132908",
   "metadata": {},
   "outputs": [
    {
     "name": "stdout",
     "output_type": "stream",
     "text": [
      "\n"
     ]
    },
    {
     "ename": "ValueError",
     "evalue": "not enough values to unpack (expected 4, got 0)",
     "output_type": "error",
     "traceback": [
      "\u001b[1;31m---------------------------------------------------------------------------\u001b[0m",
      "\u001b[1;31mValueError\u001b[0m                                Traceback (most recent call last)",
      "\u001b[1;32m<ipython-input-19-1f774f77b0ac>\u001b[0m in \u001b[0;36m<module>\u001b[1;34m\u001b[0m\n\u001b[1;32m----> 1\u001b[1;33m \u001b[0me1\u001b[0m\u001b[1;33m,\u001b[0m \u001b[0me2\u001b[0m\u001b[1;33m,\u001b[0m \u001b[0me3\u001b[0m\u001b[1;33m,\u001b[0m \u001b[0me4\u001b[0m \u001b[1;33m=\u001b[0m \u001b[0mmap\u001b[0m\u001b[1;33m(\u001b[0m\u001b[0mint\u001b[0m\u001b[1;33m,\u001b[0m \u001b[0minput\u001b[0m\u001b[1;33m(\u001b[0m\u001b[1;33m)\u001b[0m\u001b[1;33m.\u001b[0m\u001b[0msplit\u001b[0m\u001b[1;33m(\u001b[0m\u001b[1;33m)\u001b[0m\u001b[1;33m)\u001b[0m\u001b[1;33m\u001b[0m\u001b[1;33m\u001b[0m\u001b[0m\n\u001b[0m\u001b[0;32m      2\u001b[0m \u001b[1;32mif\u001b[0m \u001b[0me1\u001b[0m \u001b[1;33m==\u001b[0m \u001b[0me2\u001b[0m \u001b[1;32mand\u001b[0m \u001b[0me3\u001b[0m \u001b[1;33m==\u001b[0m \u001b[0me4\u001b[0m \u001b[1;32mor\u001b[0m \u001b[0me1\u001b[0m \u001b[1;33m==\u001b[0m \u001b[0me3\u001b[0m \u001b[1;32mand\u001b[0m \u001b[0me2\u001b[0m \u001b[1;33m==\u001b[0m \u001b[0me4\u001b[0m \u001b[1;32mor\u001b[0m \u001b[0me1\u001b[0m \u001b[1;33m==\u001b[0m \u001b[0me4\u001b[0m \u001b[1;32mand\u001b[0m \u001b[0me2\u001b[0m \u001b[1;33m==\u001b[0m \u001b[0me3\u001b[0m\u001b[1;33m:\u001b[0m\u001b[1;33m\u001b[0m\u001b[1;33m\u001b[0m\u001b[0m\n\u001b[0;32m      3\u001b[0m     \u001b[0mprint\u001b[0m\u001b[1;33m(\u001b[0m\u001b[1;34m'yes'\u001b[0m\u001b[1;33m)\u001b[0m\u001b[1;33m\u001b[0m\u001b[1;33m\u001b[0m\u001b[0m\n\u001b[0;32m      4\u001b[0m \u001b[1;32melse\u001b[0m\u001b[1;33m:\u001b[0m\u001b[1;33m\u001b[0m\u001b[1;33m\u001b[0m\u001b[0m\n\u001b[0;32m      5\u001b[0m     \u001b[0mprint\u001b[0m\u001b[1;33m(\u001b[0m\u001b[1;34m'no'\u001b[0m\u001b[1;33m)\u001b[0m\u001b[1;33m\u001b[0m\u001b[1;33m\u001b[0m\u001b[0m\n",
      "\u001b[1;31mValueError\u001b[0m: not enough values to unpack (expected 4, got 0)"
     ]
    }
   ],
   "source": [
    "e1, e2, e3, e4 = map(int, input().split())\n",
    "if e1 == e2 and e3 == e4 or e1 == e3 and e2 == e4 or e1 == e4 and e2 == e3:\n",
    "    print('yes')\n",
    "else:\n",
    "    print('no')"
   ]
  },
  {
   "cell_type": "markdown",
   "id": "676d72d6",
   "metadata": {},
   "source": [
    "## 乗車券\n",
    "新幹線に乗るためには、「乗車券」「特急券」の2枚の切符が必要です。経路の一部で新幹線を利用しない場合があるため、これらは別々の切符となっていますが、新幹線のみを利用する経路では、1枚で乗車券と特急券を兼ねる「乗車・特急券」が発行されることもあります。\n",
    "\n",
    "自動改札機では、これらの切符を読み込んで、正しい切符が投入されたときだけゲートを開けなければなりません。「乗車券」と「特急券」それぞれ１枚、または、その両方、または、「乗車・特急券」が１枚投入されたかどうかを判定し、自動改札機の扉の開閉を判断するプログラムを作成して下さい。\n",
    "### 入力\n",
    "#### 入力は以下の形式で与えられる。\n",
    "\n",
    "b1 b2 b3\n",
    "#### 入力は１行からなり、１つの空白で区切られた３つの整数を含む。b1 は「乗車券」の投入状態、b2 は「特急券」の投入状態、b3 は「乗車・特急券」の投入状態を示す。投入状態は0または1で表され、0の場合は投入されていない状態、1の場合は投入されている状態を表す。ただし、想定される投入状態の組み合わせは以下の場合のみとする。\n",
    "\n",
    "<style>\n",
    "table, th, td {\n",
    "    font-size: 150%px;\n",
    "}\n",
    "</style>\n",
    "\n",
    "| 入力 | 投入状態 | 投入に対する扉の動作 |\n",
    "| :---: | :---: | :---: |\n",
    "| 1 0 0 | 「乗車券」のみ投入 | Close |\n",
    "| 0 1 0 | 「特急券」のみ投入 | Close |\n",
    "| 1 1 0 | 「乗車券」と「特急券」投入 | Open |\n",
    "| 0 0 1 | 「乗車・特急券」投入 | Open |\n",
    "| 0 0 0 | 投入なし | Close |\n",
    "\n",
    "\n",
    "### 出力\n",
    "自動改札機の開閉を表すOpenまたはCloseを１行に出力する。\n",
    "\n",
    "#### 入力例1\n",
    "0 0 1\n",
    "#### 出力例1\n",
    "Open\n",
    "\n",
    "#### 入力例2\n",
    "0 1 0\n",
    "#### 出力例2\n",
    "Close"
   ]
  },
  {
   "cell_type": "code",
   "execution_count": 20,
   "id": "9fb104f5",
   "metadata": {},
   "outputs": [
    {
     "name": "stdout",
     "output_type": "stream",
     "text": [
      "\n"
     ]
    },
    {
     "ename": "ValueError",
     "evalue": "not enough values to unpack (expected 3, got 0)",
     "output_type": "error",
     "traceback": [
      "\u001b[1;31m---------------------------------------------------------------------------\u001b[0m",
      "\u001b[1;31mValueError\u001b[0m                                Traceback (most recent call last)",
      "\u001b[1;32m<ipython-input-20-9a5f9120bde0>\u001b[0m in \u001b[0;36m<module>\u001b[1;34m\u001b[0m\n\u001b[1;32m----> 1\u001b[1;33m \u001b[0mb1\u001b[0m\u001b[1;33m,\u001b[0m \u001b[0mb2\u001b[0m\u001b[1;33m,\u001b[0m \u001b[0mb3\u001b[0m \u001b[1;33m=\u001b[0m \u001b[0mmap\u001b[0m\u001b[1;33m(\u001b[0m\u001b[0mint\u001b[0m\u001b[1;33m,\u001b[0m \u001b[0minput\u001b[0m\u001b[1;33m(\u001b[0m\u001b[1;33m)\u001b[0m\u001b[1;33m.\u001b[0m\u001b[0msplit\u001b[0m\u001b[1;33m(\u001b[0m\u001b[1;33m)\u001b[0m\u001b[1;33m)\u001b[0m\u001b[1;33m\u001b[0m\u001b[1;33m\u001b[0m\u001b[0m\n\u001b[0m\u001b[0;32m      2\u001b[0m \u001b[1;32mif\u001b[0m \u001b[0mb1\u001b[0m \u001b[1;32mand\u001b[0m \u001b[0mb2\u001b[0m \u001b[1;32mor\u001b[0m \u001b[0mb3\u001b[0m\u001b[1;33m:\u001b[0m\u001b[1;33m\u001b[0m\u001b[1;33m\u001b[0m\u001b[0m\n\u001b[0;32m      3\u001b[0m     \u001b[0mprint\u001b[0m\u001b[1;33m(\u001b[0m\u001b[1;34m'Open'\u001b[0m\u001b[1;33m)\u001b[0m\u001b[1;33m\u001b[0m\u001b[1;33m\u001b[0m\u001b[0m\n\u001b[0;32m      4\u001b[0m \u001b[1;32melse\u001b[0m\u001b[1;33m:\u001b[0m\u001b[1;33m\u001b[0m\u001b[1;33m\u001b[0m\u001b[0m\n\u001b[0;32m      5\u001b[0m     \u001b[0mprint\u001b[0m\u001b[1;33m(\u001b[0m\u001b[1;34m'Close'\u001b[0m\u001b[1;33m)\u001b[0m\u001b[1;33m\u001b[0m\u001b[1;33m\u001b[0m\u001b[0m\n",
      "\u001b[1;31mValueError\u001b[0m: not enough values to unpack (expected 3, got 0)"
     ]
    }
   ],
   "source": [
    "b1, b2, b3 = map(int, input().split())\n",
    "if b1 and b2 or b3:\n",
    "    print('Open')\n",
    "else:\n",
    "    print('Close')"
   ]
  },
  {
   "cell_type": "markdown",
   "id": "16252f89",
   "metadata": {},
   "source": [
    "## 日の出と日の入り\n",
    "太陽が現れることを「日の出」、隠れることを「日の入り」と呼びますが、その厳密な時刻は太陽が地平線に対してどのような位置にある時でしょうか。\n",
    "\n",
    "下の図のように、太陽を円、地平線を直線で表すことにします。このとき、太陽の「日の出」「日の入り」の時刻は、太陽を表す円の上端が地平線を表す直線に接する瞬間とされています。日の出の時刻を過ぎ、円の上端が直線より上にある時間帯が昼間、円が直線の下へ完全に隠れている時間帯が夜間となります。\n",
    "\n",
    "<img src=\"https://judgeapi.u-aizu.ac.jp/resources/images/IMAGE2_PCK2016_sunset_1.png\" alt=\"\" title=\"サンプル\">\n",
    "\n",
    "ある時刻の地平線から太陽の中心までの高さと、太陽の半径を入力とし、その時刻が「昼間」か、「日の出または日の入り」か、「夜間」かを出力するプログラムを作成せよ。\n",
    "### Input\n",
    "#### 入力は以下の形式で与えられる。\n",
    "\n",
    "H R\n",
    "#### 入力は１行からなり、ある時刻の地平線から太陽の中心までの高さを表す整数 H (-1000 ≤ H ≤ 1000) と半径を表す整数 R (1 ≤ R ≤ 1000) が与えられる。ただし、H は太陽の中心が地平線上にあるときを 0 として、それより上にあるときは正、下にあるときは負とする。\n",
    "\n",
    "### Output\n",
    "昼間のとき「1」、日の出または日の入りのとき「0」、夜間のとき「-1」を１行に出力する。\n",
    "\n",
    "#### Sample Input 1\n",
    "-3 3\n",
    "#### Sample Output 1\n",
    "0\n",
    "<img src=\"https://judgeapi.u-aizu.ac.jp/resources/images/IMAGE2_PCK2016_sunset_2.png\" alt=\"\" title=\"サンプル\">\n",
    "\n",
    "#### Sample Input 2\n",
    "3 3\n",
    "#### Sample Output 2\n",
    "1\n",
    "<img src=\"https://judgeapi.u-aizu.ac.jp/resources/images/IMAGE2_PCK2016_sunset_3.png\" alt=\"\" title=\"サンプル\">\n",
    "#### Sample Input 3\n",
    "-4 3\n",
    "#### Sample Output 3\n",
    "-1\n",
    "<img src=\"https://judgeapi.u-aizu.ac.jp/resources/images/IMAGE2_PCK2016_sunset_4.png\" alt=\"\" title=\"サンプル\">\n"
   ]
  },
  {
   "cell_type": "code",
   "execution_count": 21,
   "id": "2568be06",
   "metadata": {},
   "outputs": [
    {
     "name": "stdout",
     "output_type": "stream",
     "text": [
      "\n"
     ]
    },
    {
     "ename": "ValueError",
     "evalue": "not enough values to unpack (expected 2, got 0)",
     "output_type": "error",
     "traceback": [
      "\u001b[1;31m---------------------------------------------------------------------------\u001b[0m",
      "\u001b[1;31mValueError\u001b[0m                                Traceback (most recent call last)",
      "\u001b[1;32m<ipython-input-21-5a1d7a5526e0>\u001b[0m in \u001b[0;36m<module>\u001b[1;34m\u001b[0m\n\u001b[1;32m----> 1\u001b[1;33m \u001b[0mh\u001b[0m\u001b[1;33m,\u001b[0m \u001b[0mr\u001b[0m \u001b[1;33m=\u001b[0m \u001b[0mmap\u001b[0m\u001b[1;33m(\u001b[0m\u001b[0mint\u001b[0m\u001b[1;33m,\u001b[0m \u001b[0minput\u001b[0m\u001b[1;33m(\u001b[0m\u001b[1;33m)\u001b[0m\u001b[1;33m.\u001b[0m\u001b[0msplit\u001b[0m\u001b[1;33m(\u001b[0m\u001b[1;33m)\u001b[0m\u001b[1;33m)\u001b[0m\u001b[1;33m\u001b[0m\u001b[1;33m\u001b[0m\u001b[0m\n\u001b[0m\u001b[0;32m      2\u001b[0m \u001b[1;32mif\u001b[0m \u001b[1;33m-\u001b[0m\u001b[0mh\u001b[0m \u001b[1;33m==\u001b[0m \u001b[0mr\u001b[0m\u001b[1;33m:\u001b[0m\u001b[1;33m\u001b[0m\u001b[1;33m\u001b[0m\u001b[0m\n\u001b[0;32m      3\u001b[0m     \u001b[0mprint\u001b[0m\u001b[1;33m(\u001b[0m\u001b[1;36m0\u001b[0m\u001b[1;33m)\u001b[0m\u001b[1;33m\u001b[0m\u001b[1;33m\u001b[0m\u001b[0m\n\u001b[0;32m      4\u001b[0m \u001b[1;32melif\u001b[0m \u001b[1;33m-\u001b[0m\u001b[0mh\u001b[0m \u001b[1;33m>\u001b[0m \u001b[0mr\u001b[0m\u001b[1;33m:\u001b[0m\u001b[1;33m\u001b[0m\u001b[1;33m\u001b[0m\u001b[0m\n\u001b[0;32m      5\u001b[0m     \u001b[0mprint\u001b[0m\u001b[1;33m(\u001b[0m\u001b[1;36m1\u001b[0m\u001b[1;33m)\u001b[0m\u001b[1;33m\u001b[0m\u001b[1;33m\u001b[0m\u001b[0m\n",
      "\u001b[1;31mValueError\u001b[0m: not enough values to unpack (expected 2, got 0)"
     ]
    }
   ],
   "source": [
    "h, r = map(int, input().split())\n",
    "if -h == r:\n",
    "    print(0)\n",
    "elif -h > r:\n",
    "    print(1)\n",
    "else:\n",
    "    print(-1)"
   ]
  },
  {
   "cell_type": "markdown",
   "id": "db24ad43",
   "metadata": {},
   "source": [
    "## 熱中症対策\n",
    "　 この夏は記録的な猛暑に見舞われています。あなたは、熱中症を予防するために、最寄りのスーパーで必要な量の水をまとめ買いすることにしました。このスーパーでは、１リットルと500ミリリットルの２種類のボトルに入った水が、それぞれの価格で売られています。あなたは、必要な量ぴったり買う方法がない、または合計金額が安くなるなら、必要な量より多く買おうと思っています。\n",
    "\n",
    "２種類のボトルの価格と必要な水の量を入力とし、必要な量以上の水を、できるだけ安くなるように買ったときの合計金額を求めるプログラムを作成せよ。\n",
    "\n",
    "### 入力\n",
    "#### 入力は以下の形式で与えられる。\n",
    "\n",
    "A B X\n",
    "#### １行に１リットル入りボトルの価格A (1≤A≤1000)、500ミリリットル入りボトルの価格B (1≤B≤1000)、必要な水の量X (1≤X≤20000)が与えられる。入力はすべて整数であり、水の量はミリリットル単位で与えられる。\n",
    "\n",
    "### 出力\n",
    "合計金額を1行に出力する。\n",
    "\n",
    "#### 入出力例\n",
    "#### 入力例１\n",
    "180 100 2400\n",
    "#### 出力例１\n",
    "460\n",
    "#### 入力例２\n",
    "200 90 2018\n",
    "#### 出力例２\n",
    "450"
   ]
  },
  {
   "cell_type": "code",
   "execution_count": 33,
   "id": "b89f8362",
   "metadata": {},
   "outputs": [
    {
     "name": "stdout",
     "output_type": "stream",
     "text": [
      "200 90 2018\n",
      "450\n"
     ]
    }
   ],
   "source": [
    "A, B, X = map(int, input().split())\n",
    "a = b = 0\n",
    "\n",
    "if X % 500 != 0: X += 500 - X % 500\n",
    "if A < B:\n",
    "    a = X // 1000 + (1 if (X % 1000 > 0) else 0)\n",
    "elif A > 2 * B:\n",
    "    b = X // 500\n",
    "else:\n",
    "    a = X // 1000; X %= 1000\n",
    "    b = X // 500\n",
    "    \n",
    "print(A * a + B * b)"
   ]
  },
  {
   "cell_type": "code",
   "execution_count": 27,
   "id": "9a9def23",
   "metadata": {},
   "outputs": [
    {
     "name": "stdout",
     "output_type": "stream",
     "text": [
      "2\n"
     ]
    }
   ],
   "source": [
    "print(2400//1000)"
   ]
  },
  {
   "cell_type": "markdown",
   "id": "a97187cd",
   "metadata": {},
   "source": [
    "## 歳の差は。\n",
    "はつみとタクは不思議な縁で出会いました。２人は出会いを記憶に残すために、２人の歳の差を計算しようとします。しかし、歳の差はそれを計算する日付によって変化します。２人は計算を進めていくうちに、永遠に月日が過ぎても２人の歳の差が最大何歳離れるかは決まっていることに気づきました。\n",
    "\n",
    "はつみとタクの誕生日が与えられたとき、２人の歳の差の最大値を報告するプログラムを作成せよ。歳は誕生日になった瞬間に１加算されるとする。また、誕生日がうるう年の２月２９日だった場合、うるう年でない年には３月１日になった瞬間１加算されるとする。\n",
    "\n",
    "### Input\n",
    "#### 入力は以下の形式で与えられる。\n",
    "\n",
    "y1 m1 d1\n",
    "y2 m2 d2\n",
    "#### １行目と２行目に、それぞれ、はつみとタクの誕生日を示す年月日が与えられる。yi (1 ≤ yi ≤ 3000)が年、mi (1 ≤ mi ≤ 12)が月、di (1 ≤ di ≤ Dmax)が日である。ただし、Dmaxは以下の条件を満たす。\n",
    "\n",
    "- 与えられた年がうるう年でなく月が2月のときは28。\n",
    "- 与えられた年がうるう年で月が2月のときは29。\n",
    "- 与えられた月が4,6,9,11月のときは30。\n",
    "- それ以外の月は31。\n",
    "- 西暦年が4で割り切れる年はうるう年だが、100で割り切れる年はうるう年にならない。ただし、400で割り切れる年はうるう年となる。\n",
    "\n",
    "### Output\n",
    "２人の歳の差の最大値を１行に出力する。\n",
    "\n",
    "#### Sample Input 1\n",
    "1999 9 9\n",
    "2001 11 3\n",
    "#### Sample Output 1\n",
    "3\n",
    "この例では、２００２年以降、例えば１０月１日での２人の歳の差は３歳だが、１２月１日での歳の差は２歳になる。\n",
    "\n",
    "#### Sample Input 2\n",
    "2008 2 29\n",
    "2015 3 1\n",
    "#### Sample Output 2\n",
    "8\n",
    "この例では、２０１６年以降の２月２９日に歳の差が８歳になる。"
   ]
  },
  {
   "cell_type": "code",
   "execution_count": 35,
   "id": "4801dcd0",
   "metadata": {},
   "outputs": [
    {
     "name": "stdout",
     "output_type": "stream",
     "text": [
      "1999 9 9\n",
      "2001 11 3\n",
      "3\n"
     ]
    }
   ],
   "source": [
    "y1, m1, d1 = map(int, input().split())\n",
    "y2, m2, d2 = map(int, input().split())\n",
    "\n",
    "if y1 > y2 or (y1 == y2 and (m1 > m2 or ( m1 == m2 and d1 > d2))):\n",
    "    y1, y2 = y2, y1\n",
    "    m1, m2 = m2, m1    \n",
    "    d1, d2 = d2, d1\n",
    "ans = y2 - y1\n",
    "if m1 < m2 or (m1 == m2 and d1 <d2): ans += 1\n",
    "print(ans)"
   ]
  },
  {
   "cell_type": "code",
   "execution_count": null,
   "id": "23032586",
   "metadata": {},
   "outputs": [],
   "source": []
  }
 ],
 "metadata": {
  "kernelspec": {
   "display_name": "Python 3",
   "language": "python",
   "name": "python3"
  },
  "language_info": {
   "codemirror_mode": {
    "name": "ipython",
    "version": 3
   },
   "file_extension": ".py",
   "mimetype": "text/x-python",
   "name": "python",
   "nbconvert_exporter": "python",
   "pygments_lexer": "ipython3",
   "version": "3.8.8"
  }
 },
 "nbformat": 4,
 "nbformat_minor": 5
}
